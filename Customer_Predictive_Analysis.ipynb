{
  "nbformat": 4,
  "nbformat_minor": 0,
  "metadata": {
    "colab": {
      "provenance": []
    },
    "kernelspec": {
      "name": "python3",
      "display_name": "Python 3"
    },
    "language_info": {
      "name": "python"
    }
  },
  "cells": [
    {
      "cell_type": "code",
      "execution_count": 1,
      "metadata": {
        "id": "_KXvvLa-MKKG"
      },
      "outputs": [],
      "source": [
        "import pandas as pd\n",
        "import numpy as np\n",
        "import scipy\n",
        "import matplotlib.pyplot as plt\n",
        "import seaborn as sns\n",
        "sns.set()\n",
        "from sklearn.preprocessing import StandardScaler\n",
        "from sklearn.cluster import KMeans\n",
        "from scipy.cluster.hierarchy import dendrogram,linkage\n",
        "from sklearn.cluster import AgglomerativeClustering\n",
        "import warnings\n",
        "warnings.filterwarnings('ignore')"
      ]
    },
    {
      "cell_type": "code",
      "source": [
        "import numpy as np\n",
        "import pandas as pd\n",
        "\n",
        "from sklearn.preprocessing import StandardScaler\n",
        "from sklearn.decomposition import PCA\n",
        "from sklearn.cluster import KMeans\n",
        "\n",
        "import pickle"
      ],
      "metadata": {
        "id": "6rGc9BxaMUW_"
      },
      "execution_count": 3,
      "outputs": []
    },
    {
      "cell_type": "code",
      "source": [
        "df_purchase = pd.read_csv('purchase data.csv')\n",
        "\n",
        "scaler = pickle.load(open('scaler.pickle', 'rb'))\n",
        "pca = pickle.load(open('pca.pickle', 'rb'))\n",
        "kmeans_pca = pickle.load(open('kmeans_pca.pickle', 'rb'))\n",
        "\n",
        "features = df_purchase[['Sex', 'Marital status', 'Age', 'Education', 'Income', 'Occupation', 'Settlement size']]\n",
        "df_purchase_segm_std = scaler.transform(features)\n",
        "df_purchase_segm_pca = pca.transform(df_purchase_segm_std)\n",
        "purchase_segm_kmeans_pca = kmeans_pca.predict(df_purchase_segm_pca)\n",
        "\n",
        "df_purchase_predictors = df_purchase.copy()\n",
        "df_purchase_predictors['Segment'] = purchase_segm_kmeans_pca\n",
        "segment_dummies = pd.get_dummies(purchase_segm_kmeans_pca, prefix = 'Segment', prefix_sep = '_')\n",
        "df_purchase_predictors = pd.concat([df_purchase_predictors, segment_dummies], axis = 1)\n",
        "\n",
        "df_pa = df_purchase_predictors"
      ],
      "metadata": {
        "id": "qmCzLyJVMUUB"
      },
      "execution_count": 5,
      "outputs": []
    },
    {
      "cell_type": "markdown",
      "source": [
        "Purchase Probability Model"
      ],
      "metadata": {
        "id": "_oQwLW2sNiiq"
      }
    },
    {
      "cell_type": "code",
      "source": [
        "X = pd.DataFrame()\n",
        "X['Mean_Price'] = (df_pa['Price_1'] +\n",
        "                   df_pa['Price_2'] +\n",
        "                   df_pa['Price_3'] +\n",
        "                   df_pa['Price_4'] +\n",
        "                   df_pa['Price_5'] ) / 5"
      ],
      "metadata": {
        "id": "878XytdJMURN"
      },
      "execution_count": null,
      "outputs": []
    },
    {
      "cell_type": "code",
      "source": [
        "model_purchase = LogisticRegression(solver = 'sag')\n",
        "model_purchase.fit(X, Y)"
      ],
      "metadata": {
        "id": "h0S6etkIMUOb"
      },
      "execution_count": null,
      "outputs": []
    },
    {
      "cell_type": "code",
      "source": [
        "model_purchase.coef_"
      ],
      "metadata": {
        "id": "BFLGK_78M-1n"
      },
      "execution_count": null,
      "outputs": []
    },
    {
      "cell_type": "markdown",
      "source": [
        "Price Elasticity of Purchase Probability"
      ],
      "metadata": {
        "id": "2PGGfdKUB7nx"
      }
    },
    {
      "cell_type": "code",
      "source": [
        "df_pa[['Price_1', 'Price_2', 'Price_3', 'Price_4', 'Price_5']].describe()"
      ],
      "metadata": {
        "id": "Qg8zu8IzM-y9"
      },
      "execution_count": null,
      "outputs": []
    },
    {
      "cell_type": "code",
      "source": [
        "price_range = np.arange(0.5, 3.5, 0.01)\n",
        "price_range"
      ],
      "metadata": {
        "id": "jOM1uavbM-wI"
      },
      "execution_count": null,
      "outputs": []
    },
    {
      "cell_type": "code",
      "source": [
        "df_price_range = pd.DataFrame(price_range)"
      ],
      "metadata": {
        "id": "XoqOi1Y3M-tJ"
      },
      "execution_count": null,
      "outputs": []
    },
    {
      "cell_type": "code",
      "source": [
        "Y_pr = model_purchase.predict_proba(df_price_range)\n",
        "purchase_pr = Y_pr[:][:, 1]\n",
        "pe = model_purchase.coef_[:, 0] * price_range * (1 - purchase_pr)"
      ],
      "metadata": {
        "id": "tVY1VfOPM-qO"
      },
      "execution_count": null,
      "outputs": []
    },
    {
      "cell_type": "code",
      "source": [
        "df_price_elasticities = pd.DataFrame(price_range)"
      ],
      "metadata": {
        "id": "ug8IA02bM-nS"
      },
      "execution_count": null,
      "outputs": []
    },
    {
      "cell_type": "code",
      "source": [
        "df_price_elasticities = df_price_elasticities.rename(columns = {0: \"Price_Point\"})\n",
        "df_price_elasticities['Mean_PE'] = pe\n",
        "df_price_elasticities"
      ],
      "metadata": {
        "id": "m_PJinP2M-kP"
      },
      "execution_count": null,
      "outputs": []
    },
    {
      "cell_type": "code",
      "source": [
        "pd.options.display.max_rows = None\n",
        "df_price_elasticities"
      ],
      "metadata": {
        "id": "P2QR8m41TkUW"
      },
      "execution_count": null,
      "outputs": []
    },
    {
      "cell_type": "code",
      "source": [
        "plt.figure(figsize = (9, 6))\n",
        "plt.plot(price_range, pe, color = 'grey')\n",
        "plt.xlabel('Price')\n",
        "plt.ylabel('Elasticity')\n",
        "plt.title('Price Elasticity of Purchase Probability')"
      ],
      "metadata": {
        "id": "tMJMDE01TkRt"
      },
      "execution_count": null,
      "outputs": []
    },
    {
      "cell_type": "markdown",
      "source": [
        "Price Probability By Segments"
      ],
      "metadata": {
        "id": "-8MBy__dT5GA"
      }
    },
    {
      "cell_type": "markdown",
      "source": [
        "SEGMENT 1- CAREER FOCUSED"
      ],
      "metadata": {
        "id": "hc1PY6SWT_Q4"
      }
    },
    {
      "cell_type": "code",
      "source": [
        "\n",
        "df_pa_segment_1 = df_pa[df_pa['Segment'] == 1]"
      ],
      "metadata": {
        "id": "mdaTFwCGTkOb"
      },
      "execution_count": null,
      "outputs": []
    },
    {
      "cell_type": "code",
      "source": [
        "Y = df_pa_segment_1['Incidence']"
      ],
      "metadata": {
        "id": "Bl1_RY48Towy"
      },
      "execution_count": null,
      "outputs": []
    },
    {
      "cell_type": "code",
      "source": [
        "X = pd.DataFrame()"
      ],
      "metadata": {
        "id": "_tw2eLZzTorf"
      },
      "execution_count": null,
      "outputs": []
    },
    {
      "cell_type": "code",
      "source": [
        "X['Mean_Price'] = (df_pa_segment_1['Price_1'] +\n",
        "                   df_pa_segment_1['Price_2'] +\n",
        "                   df_pa_segment_1['Price_3'] +\n",
        "                   df_pa_segment_1['Price_4'] +\n",
        "                   df_pa_segment_1['Price_5']) / 5"
      ],
      "metadata": {
        "id": "dqk_zZptTooY"
      },
      "execution_count": null,
      "outputs": []
    },
    {
      "cell_type": "code",
      "source": [
        "model_incidence_segment_1 = LogisticRegression(solver = 'sag')\n",
        "model_incidence_segment_1.fit(X, Y)"
      ],
      "metadata": {
        "id": "HPGeS8P9VVDt"
      },
      "execution_count": null,
      "outputs": []
    },
    {
      "cell_type": "code",
      "source": [
        "model_incidence_segment_1.coef_"
      ],
      "metadata": {
        "id": "3mPEq1uZVVAj"
      },
      "execution_count": null,
      "outputs": []
    },
    {
      "cell_type": "code",
      "source": [
        "Y_segment_1 = model_incidence_segment_1.predict_proba(df_price_range)\n",
        "purchase_pr_segment_1 = Y_segment_1[:][:, 1]\n",
        "pe_segment_1 = model_incidence_segment_1.coef_[:, 0] * price_range * (1 - purchase_pr_segment_1)"
      ],
      "metadata": {
        "id": "m48PKFjEVU8u"
      },
      "execution_count": null,
      "outputs": []
    },
    {
      "cell_type": "code",
      "source": [
        "df_price_elasticities['PE_Segment_1'] = pe_segment_1"
      ],
      "metadata": {
        "id": "DOrJfUOYVU6a"
      },
      "execution_count": null,
      "outputs": []
    },
    {
      "cell_type": "code",
      "source": [
        "plt.figure(figsize = (9, 6))\n",
        "plt.plot(price_range, pe, color = 'grey')\n",
        "plt.plot(price_range, pe_segment_1, color = 'green')\n",
        "plt.xlabel('Price')\n",
        "plt.ylabel('Elasticity')\n",
        "plt.title('Price Elasticity of Purchase Probability')"
      ],
      "metadata": {
        "id": "TlE8VYnDVU08"
      },
      "execution_count": null,
      "outputs": []
    },
    {
      "cell_type": "markdown",
      "source": [
        "SEGMENT 2- FEWER OPPORTUNITIES"
      ],
      "metadata": {
        "id": "kNyQBPWfVhy1"
      }
    },
    {
      "cell_type": "code",
      "source": [
        "df_pa_segment_2 = df_pa[df_pa['Segment'] == 2]"
      ],
      "metadata": {
        "id": "xNrva94AVUyU"
      },
      "execution_count": null,
      "outputs": []
    },
    {
      "cell_type": "code",
      "source": [
        "Y = df_pa_segment_2['Incidence']\n",
        "\n",
        "X = pd.DataFrame()\n",
        "X['Mean_Price'] = (df_pa_segment_2['Price_1'] +\n",
        "                   df_pa_segment_2['Price_2'] +\n",
        "                   df_pa_segment_2['Price_3'] +\n",
        "                   df_pa_segment_2['Price_4'] +\n",
        "                   df_pa_segment_2['Price_5']) / 5\n",
        "\n",
        "model_incidence_segment2 = LogisticRegression(solver = 'sag')\n",
        "model_incidence_segment2.fit(X, Y)\n",
        "\n",
        "model_incidence_segment2.coef_\n",
        "Y_segment_2 = model_incidence_segment2.predict_proba(df_price_range)\n",
        "purchase_pr_segment2 = Y_segment_2[:][: , 1]\n",
        "pe_segment2 = model_incidence_segment2.coef_[:,0] * price_range * ( 1- purchase_pr_segment2)"
      ],
      "metadata": {
        "id": "zLJYEyCFVUvJ"
      },
      "execution_count": null,
      "outputs": []
    },
    {
      "cell_type": "markdown",
      "source": [
        "Results"
      ],
      "metadata": {
        "id": "NPs2mK2QVwCJ"
      }
    },
    {
      "cell_type": "code",
      "source": [
        "df_price_elasticities['PE_Segment_2'] = pe_segment2"
      ],
      "metadata": {
        "id": "evITiC1ZVcwb"
      },
      "execution_count": null,
      "outputs": []
    },
    {
      "cell_type": "code",
      "source": [
        "plt.figure(figsize = (9, 6))\n",
        "plt.plot(price_range, pe, color = 'grey')\n",
        "plt.plot(price_range, pe_segment_1, color = 'green')\n",
        "plt.plot(price_range, pe_segment2, color = 'r')\n",
        "plt.xlabel('Price')\n",
        "plt.ylabel('Elasticity')\n",
        "plt.title('Price Elasticity of Purchase Probability')"
      ],
      "metadata": {
        "id": "lGiwEo6vVcuG"
      },
      "execution_count": null,
      "outputs": []
    },
    {
      "cell_type": "markdown",
      "source": [
        "SEGMENT 0- STANDARD"
      ],
      "metadata": {
        "id": "Vpb-HjaNWEp0"
      }
    },
    {
      "cell_type": "code",
      "source": [
        "df_pa_segment_0 = df_pa[df_pa['Segment'] == 0]\n",
        "\n",
        "Y = df_pa_segment_0['Incidence']\n",
        "\n",
        "X = pd.DataFrame()\n",
        "X['Mean_Price'] = (df_pa_segment_0['Price_1'] +\n",
        "                   df_pa_segment_0['Price_2'] +\n",
        "                   df_pa_segment_0['Price_3'] +\n",
        "                   df_pa_segment_0['Price_4'] +\n",
        "                   df_pa_segment_0['Price_5']) / 5\n",
        "\n",
        "model_incidence_segment0 = LogisticRegression(solver = 'sag')\n",
        "model_incidence_segment0.fit(X, Y)\n",
        "\n",
        "model_incidence_segment0.coef_\n",
        "Y_segment_0 = model_incidence_segment0.predict_proba(df_price_range)\n",
        "purchase_pr_segment0 = Y_segment_0[:][: , 1]\n",
        "pe_segment0 = model_incidence_segment0.coef_[:,0] * price_range *( 1- purchase_pr_segment0)\n",
        "df_price_elasticities.insert(2, column = 'PE_Segment_0', value = pe_segment0)"
      ],
      "metadata": {
        "id": "Jf5jxrg6VcrG"
      },
      "execution_count": null,
      "outputs": []
    },
    {
      "cell_type": "markdown",
      "source": [
        "SEGMENT 3- WELL OFF"
      ],
      "metadata": {
        "id": "mNl9WXTZWXe-"
      }
    },
    {
      "cell_type": "code",
      "source": [
        "df_pa_segment_3 = df_pa[df_pa['Segment'] == 3]\n",
        "\n",
        "Y = df_pa_segment_3['Incidence']\n",
        "\n",
        "X = pd.DataFrame()\n",
        "X['Mean_Price'] = (df_pa_segment_3['Price_1'] +\n",
        "                   df_pa_segment_3['Price_2'] +\n",
        "                   df_pa_segment_3['Price_3'] +\n",
        "                   df_pa_segment_3['Price_4'] +\n",
        "                   df_pa_segment_3['Price_5']) / 5\n",
        "\n",
        "model_incidence_segment3 = LogisticRegression(solver = 'sag')\n",
        "model_incidence_segment3.fit(X, Y)\n",
        "\n",
        "model_incidence_segment3.coef_\n",
        "Y_segment_3 = model_incidence_segment3.predict_proba(df_price_range)\n",
        "purchase_pr_segment3 = Y_segment_3[:][: , 1]\n",
        "pe_segment3 = model_incidence_segment3.coef_[:,0] * price_range *( 1- purchase_pr_segment3)\n",
        "df_price_elasticities['PE_Segment_3'] = pe_segment3\n",
        "df_price_elasticities"
      ],
      "metadata": {
        "id": "c-3HWCawVcoY"
      },
      "execution_count": null,
      "outputs": []
    },
    {
      "cell_type": "markdown",
      "source": [
        "Results"
      ],
      "metadata": {
        "id": "A16ZbelsWgXn"
      }
    },
    {
      "cell_type": "code",
      "source": [
        "plt.figure(figsize = (9, 6))\n",
        "plt.plot(price_range, pe, color = 'grey')\n",
        "plt.plot(price_range, pe_segment0, color = 'b')\n",
        "plt.plot(price_range, pe_segment_1, color = 'green')\n",
        "plt.plot(price_range, pe_segment2, color = 'r')\n",
        "plt.plot(price_range, pe_segment3, color = 'orange')\n",
        "plt.xlabel('Price')\n",
        "plt.ylabel('Elasticity')\n",
        "plt.title('Price Elasticity of Purchase Probability')"
      ],
      "metadata": {
        "id": "HiJycDeWVclI"
      },
      "execution_count": null,
      "outputs": []
    },
    {
      "cell_type": "markdown",
      "source": [
        "Purchase Probability With Promotion Feature"
      ],
      "metadata": {
        "id": "4uutdLRaWuCU"
      }
    },
    {
      "cell_type": "markdown",
      "source": [
        "Data Preparation"
      ],
      "metadata": {
        "id": "2CXxbNIEW0Ny"
      }
    },
    {
      "cell_type": "code",
      "source": [
        "Y = df_pa['Incidence']"
      ],
      "metadata": {
        "id": "j77JXgoDVx6-"
      },
      "execution_count": null,
      "outputs": []
    },
    {
      "cell_type": "code",
      "source": [
        "X = pd.DataFrame()\n",
        "X['Mean_Price'] = (df_pa['Price_1'] +\n",
        "                   df_pa['Price_2'] +\n",
        "                   df_pa['Price_3'] +\n",
        "                   df_pa['Price_4'] +\n",
        "                   df_pa['Price_5']) / 5"
      ],
      "metadata": {
        "id": "9DgV8qdbVx3v"
      },
      "execution_count": null,
      "outputs": []
    },
    {
      "cell_type": "code",
      "source": [
        "X['Mean_Promotion'] = (df_pa['Promotion_1'] +\n",
        "                       df_pa['Promotion_2'] +\n",
        "                       df_pa['Promotion_3'] +\n",
        "                       df_pa['Promotion_4'] +\n",
        "                       df_pa['Promotion_5'] ) / 5\n",
        "X.head()"
      ],
      "metadata": {
        "id": "AVkLcdk6Vxyn"
      },
      "execution_count": null,
      "outputs": []
    },
    {
      "cell_type": "markdown",
      "source": [
        "Model Estimation"
      ],
      "metadata": {
        "id": "plCMMHojW_49"
      }
    },
    {
      "cell_type": "code",
      "source": [
        "model_incidence_promotion = LogisticRegression(solver = 'sag')\n",
        "model_incidence_promotion.fit(X, Y)\n",
        "model_incidence_promotion.coef_"
      ],
      "metadata": {
        "id": "9Y_TLq_wVxvU"
      },
      "execution_count": null,
      "outputs": []
    },
    {
      "cell_type": "markdown",
      "source": [
        "Brand Choice"
      ],
      "metadata": {
        "id": "k8WLVRlDXPOO"
      }
    },
    {
      "cell_type": "markdown",
      "source": [
        "Data Preparation"
      ],
      "metadata": {
        "id": "kJp_sE_hXSo8"
      }
    },
    {
      "cell_type": "code",
      "source": [
        "brand_choice = df_pa[df_pa['Incidence'] == 1]"
      ],
      "metadata": {
        "id": "Xei0sdsAW8qz"
      },
      "execution_count": null,
      "outputs": []
    },
    {
      "cell_type": "code",
      "source": [
        "pd.options.display.max_rows = 100\n",
        "brand_choice"
      ],
      "metadata": {
        "id": "dbiXrKpIW8n_"
      },
      "execution_count": null,
      "outputs": []
    },
    {
      "cell_type": "code",
      "source": [
        "Y = brand_choice['Brand']"
      ],
      "metadata": {
        "id": "j7TTXvlCW8lL"
      },
      "execution_count": null,
      "outputs": []
    },
    {
      "cell_type": "code",
      "source": [
        "brand_choice.columns.values"
      ],
      "metadata": {
        "id": "U20vYAl-W8h5"
      },
      "execution_count": null,
      "outputs": []
    },
    {
      "cell_type": "code",
      "source": [
        "features = ['Price_1', 'Price_2', 'Price_3', 'Price_4', 'Price_5']\n",
        "X = brand_choice[features]"
      ],
      "metadata": {
        "id": "B7wqAG5SW8e6"
      },
      "execution_count": null,
      "outputs": []
    },
    {
      "cell_type": "code",
      "source": [
        "model_brand_choice = LogisticRegression(solver = 'sag', multi_class = 'multinomial')\n",
        "model_brand_choice.fit(X, Y)"
      ],
      "metadata": {
        "id": "U5-D84MYW9kv"
      },
      "execution_count": null,
      "outputs": []
    },
    {
      "cell_type": "code",
      "source": [
        "model_brand_choice.coef_"
      ],
      "metadata": {
        "id": "0Y744V40W9hz"
      },
      "execution_count": null,
      "outputs": []
    },
    {
      "cell_type": "code",
      "source": [
        "bc_coef = pd.DataFrame(model_brand_choice.coef_)\n",
        "bc_coef"
      ],
      "metadata": {
        "id": "RXauvdC8W9e2"
      },
      "execution_count": null,
      "outputs": []
    },
    {
      "cell_type": "code",
      "source": [
        "bc_coef = pd.DataFrame(np.transpose(model_brand_choice.coef_))\n",
        "coefficients = ['Coef_Brand_1', 'Coef_Brand_2', 'Coef_Brand_3', 'Coef_Brand_4', 'Coef_Brand_5']\n",
        "bc_coef.columns = [coefficients]\n",
        "prices = ['Price_1', 'Price_2', 'Price_3', 'Price_4', 'Price_5']\n",
        "bc_coef.index = [prices]\n",
        "bc_coef = bc_coef.round(2)\n",
        "bc_coef"
      ],
      "metadata": {
        "id": "uWZCnNETXc8F"
      },
      "execution_count": null,
      "outputs": []
    },
    {
      "cell_type": "markdown",
      "source": [
        "Own Price Elasticity Brand 5"
      ],
      "metadata": {
        "id": "sgDRXBFXZHva"
      }
    },
    {
      "cell_type": "code",
      "source": [
        "df_own_brand_5 = pd.DataFrame(index = np.arange(price_range.size))\n",
        "df_own_brand_5['Price_1'] = brand_choice['Price_1'].mean()\n",
        "df_own_brand_5['Price_2'] = brand_choice['Price_2'].mean()\n",
        "df_own_brand_5['Price_3'] = brand_choice['Price_3'].mean()\n",
        "df_own_brand_5['Price_4'] = brand_choice['Price_4'].mean()\n",
        "df_own_brand_5['Price_5'] = price_range\n",
        "df_own_brand_5"
      ],
      "metadata": {
        "id": "ATfJykw1ZewJ"
      },
      "execution_count": null,
      "outputs": []
    },
    {
      "cell_type": "code",
      "source": [
        "predict_brand_5 = model_brand_choice.predict_proba(df_own_brand_5)"
      ],
      "metadata": {
        "id": "Czgn8-vWZeqU"
      },
      "execution_count": null,
      "outputs": []
    },
    {
      "cell_type": "code",
      "source": [
        "pr_own_brand_5 = predict_brand_5[: ][:, 4]"
      ],
      "metadata": {
        "id": "xSIGx6tCZnSK"
      },
      "execution_count": null,
      "outputs": []
    },
    {
      "cell_type": "code",
      "source": [
        "beta5 = bc_coef.iloc[4, 4]\n",
        "beta5"
      ],
      "metadata": {
        "id": "89k2CBUeZnOv"
      },
      "execution_count": null,
      "outputs": []
    },
    {
      "cell_type": "code",
      "source": [
        "own_price_elasticity_brand_5 = beta5 * price_range * (1 - pr_own_brand_5)"
      ],
      "metadata": {
        "id": "mamVamB_ZnLb"
      },
      "execution_count": null,
      "outputs": []
    },
    {
      "cell_type": "code",
      "source": [
        "df_price_elasticities['Brand_5'] = own_price_elasticity_brand_5\n",
        "pd.options.display.max_rows = None\n",
        "df_price_elasticities"
      ],
      "metadata": {
        "id": "x7FhqhXSZnIJ"
      },
      "execution_count": null,
      "outputs": []
    },
    {
      "cell_type": "code",
      "source": [
        "plt.figure(figsize = (9, 6))\n",
        "plt.plot(price_range, own_price_elasticity_brand_5, color = 'grey')\n",
        "plt.xlabel('Price 5')\n",
        "plt.ylabel('Elasticity')\n",
        "plt.title('Own Price Elasticity of Purchase Probability for Brand 5')"
      ],
      "metadata": {
        "id": "ilPeezt0aCjv"
      },
      "execution_count": null,
      "outputs": []
    },
    {
      "cell_type": "markdown",
      "source": [
        "Cross Price Elasticity Brand 5, Cross Brand 4"
      ],
      "metadata": {
        "id": "9JRfRCJfaUSR"
      }
    },
    {
      "cell_type": "code",
      "source": [
        "df_brand5_cross_brand4 = pd.DataFrame(index = np.arange(price_range.size))\n",
        "df_brand5_cross_brand4['Price_1'] = brand_choice['Price_1'].mean()\n",
        "df_brand5_cross_brand4['Price_2'] = brand_choice['Price_2'].mean()\n",
        "df_brand5_cross_brand4['Price_3'] = brand_choice['Price_3'].mean()\n",
        "df_brand5_cross_brand4['Price_4'] = price_range\n",
        "df_brand5_cross_brand4['Price_5'] = brand_choice['Price_5'].mean()"
      ],
      "metadata": {
        "id": "lidMbYgnaCfi"
      },
      "execution_count": null,
      "outputs": []
    },
    {
      "cell_type": "code",
      "source": [
        "df_brand5_cross_brand4.head()"
      ],
      "metadata": {
        "id": "PIyljt3aaCaS"
      },
      "execution_count": null,
      "outputs": []
    },
    {
      "cell_type": "code",
      "source": [
        "predict_brand5_cross_brand4 = model_brand_choice.predict_proba(df_brand5_cross_brand4)"
      ],
      "metadata": {
        "id": "74sNpA7DaJNC"
      },
      "execution_count": null,
      "outputs": []
    },
    {
      "cell_type": "code",
      "source": [
        "pr_brand_4 = predict_brand5_cross_brand4[:][:, 3]"
      ],
      "metadata": {
        "id": "DxwDpXpqaano"
      },
      "execution_count": null,
      "outputs": []
    },
    {
      "cell_type": "code",
      "source": [
        "beta5"
      ],
      "metadata": {
        "id": "dxhqLGKaaakM"
      },
      "execution_count": null,
      "outputs": []
    },
    {
      "cell_type": "code",
      "source": [
        "brand5_cross_brand4_price_elasticity = -beta5 * price_range * pr_brand_4"
      ],
      "metadata": {
        "id": "_xmRFzBfaagp"
      },
      "execution_count": null,
      "outputs": []
    },
    {
      "cell_type": "code",
      "source": [
        "df_price_elasticities['Brand_5_Cross_Brand_4'] = brand5_cross_brand4_price_elasticity\n",
        "df_price_elasticities"
      ],
      "metadata": {
        "id": "eLvxpezeaadC"
      },
      "execution_count": null,
      "outputs": []
    },
    {
      "cell_type": "code",
      "source": [
        "plt.figure(figsize = (9, 6))\n",
        "plt.plot(price_range, brand5_cross_brand4_price_elasticity, color = 'grey')\n",
        "plt.xlabel('Price 4')\n",
        "plt.ylabel('Elasticity')\n",
        "plt.title('Cross Price Elasticity of Brand 5 wrt to Brand 4')"
      ],
      "metadata": {
        "id": "W9EjUAaJaffQ"
      },
      "execution_count": null,
      "outputs": []
    },
    {
      "cell_type": "markdown",
      "source": [
        "Own and Cross-Price Elasticity by Segment"
      ],
      "metadata": {
        "id": "JZ-yyt4ha1kJ"
      }
    },
    {
      "cell_type": "markdown",
      "source": [
        "WELL-OFF"
      ],
      "metadata": {
        "id": "Tw8OU0aga4r4"
      }
    },
    {
      "cell_type": "code",
      "source": [
        "brand_choice_s3 = df_pa[df_pa['Incidence'] == 1]\n",
        "brand_choice_s3 = brand_choice_s3[brand_choice_s3['Segment'] == 3]\n",
        "\n",
        "pd.options.display.max_rows = 100\n",
        "brand_choice_s3"
      ],
      "metadata": {
        "id": "TfzCV3D9afcV"
      },
      "execution_count": null,
      "outputs": []
    },
    {
      "cell_type": "code",
      "source": [
        "# model estimation\n",
        "Y = brand_choice_s3['Brand']\n",
        "brand_choice_s3 = pd.get_dummies(brand_choice_s3, columns=['Brand'], prefix = 'Brand', prefix_sep = '_')\n",
        "X = brand_choice_s3[features]\n",
        "model_brand_choice_s3 = LogisticRegression(solver = 'sag', multi_class = 'multinomial', max_iter = 300)\n",
        "model_brand_choice_s3.fit(X, Y)\n",
        "\n",
        "#coefficients table for segment 3\n",
        "bc_coef = pd.DataFrame(np.transpose(model_brand_choice_s3.coef_))\n",
        "bc_coef.columns = [coefficients]\n",
        "bc_coef.index = [prices]\n",
        "bc_coef = bc_coef.round(2)\n",
        "bc_coef"
      ],
      "metadata": {
        "id": "EY8OwAFmafNh"
      },
      "execution_count": null,
      "outputs": []
    },
    {
      "cell_type": "markdown",
      "source": [
        "OWN BRAND PRICE ELASTICITY"
      ],
      "metadata": {
        "id": "T2JHjLk-bBqj"
      }
    },
    {
      "cell_type": "code",
      "source": [
        "df_own_brand_5_s3 = pd.DataFrame(index = np.arange(price_range.size))\n",
        "df_own_brand_5_s3['Price_1'] = brand_choice_s3['Price_1'].mean()\n",
        "df_own_brand_5_s3['Price_2'] = brand_choice_s3['Price_2'].mean()\n",
        "df_own_brand_5_s3['Price_3'] = brand_choice_s3['Price_3'].mean()\n",
        "df_own_brand_5_s3['Price_4'] = brand_choice_s3['Price_4'].mean()\n",
        "df_own_brand_5_s3['Price_5'] = price_range\n",
        "\n",
        "predict_own_brand_5_s3 = model_brand_choice_s3.predict_proba(df_own_brand_5_s3)\n",
        "pr_own_brand_5_s3 = predict_own_brand_5_s3[: ][: , 4]\n",
        "\n",
        "own_price_elasticity_brand_5_s3 =  beta5 * price_range * (1 - pr_own_brand_5_s3)\n",
        "df_price_elasticities['Brand 5 S3'] = own_price_elasticity_brand_5_s3"
      ],
      "metadata": {
        "id": "xrLSRHsaaoq0"
      },
      "execution_count": null,
      "outputs": []
    },
    {
      "cell_type": "markdown",
      "source": [
        "CROSS BRAND PRICE ELASTICITY"
      ],
      "metadata": {
        "id": "6DSDUgCUbJfu"
      }
    },
    {
      "cell_type": "code",
      "source": [
        "df_brand5_cross_brand4_s3 = pd.DataFrame(index = np.arange(price_range.size))\n",
        "df_brand5_cross_brand4_s3['Price_1'] = brand_choice_s3['Price_1'].mean()\n",
        "df_brand5_cross_brand4_s3['Price_2'] = brand_choice_s3['Price_2'].mean()\n",
        "df_brand5_cross_brand4_s3['Price_3'] = brand_choice_s3['Price_3'].mean()\n",
        "df_brand5_cross_brand4_s3['Price_4'] = price_range\n",
        "df_brand5_cross_brand4_s3['Price_5'] = brand_choice_s3['Price_5'].mean()\n",
        "\n",
        "predict_brand5_cross_brand4_s3 = model_brand_choice_s3.predict_proba(df_brand5_cross_brand4_s3)\n",
        "pr_cross_brand_5_s3 = predict_brand5_cross_brand4_s3[: ][: , 3]\n",
        "\n",
        "brand5_cross_brand4_price_elasticity_s3 = -beta5 * price_range * pr_cross_brand_5_s3\n",
        "df_price_elasticities['Brand_5_Cross_Brand_4_S3'] = brand5_cross_brand4_price_elasticity_s3\n",
        "pd.options.display.max_rows = None\n",
        "df_price_elasticities"
      ],
      "metadata": {
        "id": "DhStDhSJaonP"
      },
      "execution_count": null,
      "outputs": []
    },
    {
      "cell_type": "code",
      "source": [
        "fig, axs = plt.subplots(1, 2, figsize = (14, 4))\n",
        "axs[0].plot(price_range, own_price_elasticity_brand_5_s3, color = 'orange')\n",
        "axs[0].set_title('Brand 5 Segment Well-Off')\n",
        "axs[0].set_xlabel('Price 5')\n",
        "\n",
        "axs[1].plot(price_range, brand5_cross_brand4_price_elasticity_s3, color = 'orange')\n",
        "axs[1].set_title('Cross Price Elasticity of Brand 5 wrt Brand 4 Segment Well-Off')\n",
        "axs[1].set_xlabel('Price 4')\n",
        "\n",
        "for ax in axs.flat:\n",
        "    ax.set(ylabel = 'Elasticity')"
      ],
      "metadata": {
        "id": "T9m5sT8KaokA"
      },
      "execution_count": null,
      "outputs": []
    },
    {
      "cell_type": "code",
      "source": [],
      "metadata": {
        "id": "Vehk0GEFa2gl"
      },
      "execution_count": null,
      "outputs": []
    },
    {
      "cell_type": "code",
      "source": [],
      "metadata": {
        "id": "bvowvCjEbWFc"
      },
      "execution_count": null,
      "outputs": []
    },
    {
      "cell_type": "code",
      "source": [],
      "metadata": {
        "id": "pCKTBZ-ibWA9"
      },
      "execution_count": null,
      "outputs": []
    },
    {
      "cell_type": "code",
      "source": [],
      "metadata": {
        "id": "taCn_jmqbV1Z"
      },
      "execution_count": null,
      "outputs": []
    },
    {
      "cell_type": "code",
      "source": [],
      "metadata": {
        "id": "1wkXLsQhbVyE"
      },
      "execution_count": null,
      "outputs": []
    },
    {
      "cell_type": "code",
      "source": [],
      "metadata": {
        "id": "WuknrxAYbVtr"
      },
      "execution_count": null,
      "outputs": []
    },
    {
      "cell_type": "code",
      "source": [],
      "metadata": {
        "id": "hxxB_VBjbVqR"
      },
      "execution_count": null,
      "outputs": []
    }
  ]
}